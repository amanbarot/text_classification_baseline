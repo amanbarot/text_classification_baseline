{
 "cells": [
  {
   "cell_type": "markdown",
   "id": "06937511",
   "metadata": {},
   "source": [
    "# News Article Classification: Comparing Bag of N-gram Models\n",
    "\n",
    "*By: Aman Barot*\n",
    "\n",
    "**Objective**  \n",
    "\n",
    "Train and evaluate multiple n-gram based baseline models to classify news articles from the AG News dataset into four classes (World, Sports, Business, Sci/Tech). Compare performance across different approaches and analyze top contributing features per class for the best models.\n",
    "\n",
    "**Models Evaluated**\n",
    "The models are built using XGBoost and with four different sets of features:\n",
    "- Counts of Unigrams\n",
    "- Counts of Unigrams + Bigrams\n",
    "- TF-IDF of Unigrams\n",
    "- TF-IDF of Unigrams + Bigrams\n",
    "\n",
    "**Steps**\n",
    "1. Load and preprocess the AG News dataset\n",
    "2. Vectorize text using different n-gram strategies\n",
    "3. Train XGBoost across all variants\n",
    "4. Evaluate using classification metrics (accuracy, macro F1)\n",
    "5. Visualize comparative performance\n",
    "6. Analyze and visualize feature importance for the best model\n",
    "\n",
    "**Outcomes** \n",
    "- Identified that counts of unigrams performs best on AG News dataset\n",
    "- **Top unigram features** per class. \n",
    "    - **World**: iraq, kill, palestenian, minister, press, iraqi, president, baghdad, hostage, militant\n",
    "    - **Sports**: coach, game, team, cup, win, sports, league, company, victory, championship\n",
    "    - **Business**: price, oil, profit, stock, company, billion, percent, sale, airlines, bank\n",
    "    - **Sci/Tech**: microsoft, software, nasa, space, internet, web, computer, scientist, linux, online\n",
    "- **Text Classification Trade-offs**:\n",
    "    - **Unigrams**: \n",
    "        - **Pros**: Simple, interpretable, and robust.\n",
    "        - **Cons**: Sparse, misses context.\n",
    "        - **Use Case**: Basic models where simplicity is key.\n",
    "\n",
    "    - **Bigrams**: \n",
    "        - **Pros**: Captures short phrases, better context.\n",
    "        - **Cons**: Increased dimensionality, risk of overfitting.\n",
    "        - **Use Case**: When context matters (but we want to be careful to avoid overfitting).\n",
    "\n",
    "    - **TF-IDF**: \n",
    "        - **Pros**: Downweights common words, improves generalization.\n",
    "        - **Cons**: Loses raw frequency signal.\n",
    "        - **Use Case**: Focuses on meaningful terms.\n",
    "\n",
    "    - **Count-based**: \n",
    "        - **Pros**: Retains word frequency.\n",
    "        - **Cons**: Overemphasizes common words.\n",
    "        - **Use Case**: Useful when frequency is important.\n",
    "\n",
    "    -  Model Complexity, Interpretability, and Performance:\n",
    "        - **Complexity**: Larger n-grams (bigrams, etc.) increase dimensionality and computational cost.\n",
    "        - **Interpretability**: Unigrams are easy to interpret; bigrams and TF-IDF are more abstract.\n",
    "        - **Performance**: TF-IDF and bigrams improve performance but risk overfitting; unigrams are simpler but less context-sensitive.\n"
   ]
  },
  {
   "cell_type": "markdown",
   "id": "e0129846",
   "metadata": {},
   "source": [
    "## Table of Contents\n",
    "1. [Dataset Description](#dataset-description)\n",
    "2. [Getting Data](#get-data)\n",
    "3. [Preprocessing Data](#data-cleaning)\n",
    "4. [Feature Creation](#generating-features)\n",
    "5. [Building and Comparing Models](#training-xgboost-models-and-comparing-on-validation-set)\n",
    "6. [Top Features by News Article Type](#shap-importance-for-best-model)\n",
    "7. [Performance of Best Model on Test Set](#evaluating-best-model-on-test-set)"
   ]
  },
  {
   "cell_type": "code",
   "execution_count": 29,
   "id": "1134d40a",
   "metadata": {},
   "outputs": [],
   "source": [
    "from datasets import load_dataset, DatasetDict\n",
    "import pandas as pd\n",
    "import numpy as np\n",
    "from collections import Counter\n",
    "from sklearn.feature_extraction.text import CountVectorizer\n",
    "from sklearn.feature_extraction.text import TfidfVectorizer\n",
    "from sklearn.metrics import (\n",
    "    accuracy_score, \n",
    "    precision_recall_fscore_support, \n",
    "    confusion_matrix, \n",
    "    classification_report,\n",
    ")\n",
    "from sklearn.preprocessing import LabelEncoder\n",
    "import xgboost as xgb\n",
    "import shap\n",
    "from matplotlib import pyplot as plt \n",
    "import importlib"
   ]
  },
  {
   "cell_type": "code",
   "execution_count": 30,
   "id": "e2b1f24f",
   "metadata": {},
   "outputs": [],
   "source": [
    "import preprocess\n",
    "import hyperparam_tune\n",
    "import skopt_hyperparam_tune"
   ]
  },
  {
   "cell_type": "code",
   "execution_count": 50,
   "id": "cba32346",
   "metadata": {},
   "outputs": [
    {
     "data": {
      "text/plain": [
       "<module 'skopt_hyperparam_tune' from '/Users/box/Documents/Projects/nlp_code_samples/skopt_hyperparam_tune.py'>"
      ]
     },
     "execution_count": 50,
     "metadata": {},
     "output_type": "execute_result"
    }
   ],
   "source": [
    "# importlib.reload(preprocess)\n",
    "# importlib.reload(hyperparam_tune)\n",
    "importlib.reload(skopt_hyperparam_tune)"
   ]
  },
  {
   "cell_type": "markdown",
   "id": "da938e73",
   "metadata": {},
   "source": [
    "## Dataset Description"
   ]
  },
  {
   "cell_type": "markdown",
   "id": "5846670c",
   "metadata": {},
   "source": [
    "The **AG News** dataset is a large-scale collection of news articles, primarily used for **text classification** tasks. The dataset consists of news articles classified into four categories:\n",
    "\n",
    "1. **World** – News related to international events, politics, and general world affairs.\n",
    "2. **Sports** – Articles covering various sports topics, including scores, player statistics, and event coverage.\n",
    "3. **Business** – Articles discussing economics, finance, companies, and the stock market.\n",
    "4. **Science/Technology** – Articles focused on technological advancements, science discoveries, and related fields.\n",
    "\n",
    "The dataset was originally collected and made available by the **AG (Academia Sinica)** to facilitate text classification research. It is widely used as a benchmark in machine learning for evaluating classification algorithms and models.\n",
    "\n",
    "#### Key Features:\n",
    "- **Training Set**: 120,000 labeled samples\n",
    "- **Test Set**: 7,600 labeled samples\n",
    "- **Text Content**: Each article contains a headline and a brief summary of the news topic.\n",
    "- **Class Distribution**: The dataset has a balanced distribution of articles across the four categories.\n"
   ]
  },
  {
   "cell_type": "markdown",
   "id": "528f8e66",
   "metadata": {},
   "source": [
    "## Getting Data"
   ]
  },
  {
   "cell_type": "markdown",
   "id": "32a59edc",
   "metadata": {},
   "source": [
    "\n",
    "The following code gets the data using the Hugging Face's dataset library. The dataset is of type `DatasetDict` and has two data partitions as training set and test set. \n",
    "The training data is further split into a smaller training set and a validation set. The validation set is chosen to be of the same size as the test set. The validation is used for model selection, early stopping (in case of XGBoost), and for tuning any hyperparameters.\n",
    "The three data splits are stored in a `DatasetDict` to easily map the preprocessing pipeline onto all the data splits in one go. It ensures that the same preprocessing steps are applied to all the data splits, and they are applied in identical order."
   ]
  },
  {
   "cell_type": "code",
   "execution_count": 32,
   "id": "d282df61",
   "metadata": {},
   "outputs": [],
   "source": [
    "data_orig = load_dataset(\"ag_news\")\n",
    "valid_size = len(data_orig['test'])\n",
    "# Split train set into train and validation set\n",
    "train_valid_split = data_orig[\"train\"].train_test_split(\n",
    "    test_size=valid_size, shuffle=True, seed=42\n",
    ")\n",
    "data_updated = DatasetDict({\n",
    "    \"train\": train_valid_split[\"train\"],\n",
    "    \"valid\": train_valid_split[\"test\"],\n",
    "    \"test\": data_orig[\"test\"],\n",
    "})"
   ]
  },
  {
   "cell_type": "code",
   "execution_count": 33,
   "id": "98f22eae",
   "metadata": {},
   "outputs": [
    {
     "name": "stdout",
     "output_type": "stream",
     "text": [
      "train: 112400\n",
      "valid: 7600\n",
      "test: 7600\n"
     ]
    }
   ],
   "source": [
    "for split in data_updated:\n",
    "    print(f\"{split}: {len(data_updated[split])}\")"
   ]
  },
  {
   "cell_type": "markdown",
   "id": "4b15868d",
   "metadata": {},
   "source": [
    "Class labels are equally distributed in the training set."
   ]
  },
  {
   "cell_type": "code",
   "execution_count": 34,
   "id": "465ec687",
   "metadata": {},
   "outputs": [
    {
     "data": {
      "text/plain": [
       "Counter({2: 28206, 1: 28089, 0: 28070, 3: 28035})"
      ]
     },
     "execution_count": 34,
     "metadata": {},
     "output_type": "execute_result"
    }
   ],
   "source": [
    "Counter(data_updated[\"train\"]['label'])"
   ]
  },
  {
   "cell_type": "markdown",
   "id": "b39f428b",
   "metadata": {},
   "source": [
    "## Data Cleaning"
   ]
  },
  {
   "cell_type": "markdown",
   "id": "4942fc91",
   "metadata": {},
   "source": [
    "The following **data preprocessing operations** are applied on the datasets (identically on all three data splits).\n",
    "\n",
    "1. Tokenization into words and converting words to lower case.\n",
    "2. Extracting lemma for each word. This helps with feature reduction and model generalization for bag of words and bag of $n$-gram models. \n",
    "    - Also, only the alphabetical lemmas are kept i.e., numbers, punctuations, links, and special characters are removed. \n",
    "    - Tokens with hyphens and contractions are also removed.\n",
    "3. Stop words are removed. This ensures the model predicts on contextual words and consequently is more interpretable and generalizable. In addition to using stop words from `spacy`, I also the following:\n",
    "    + Names of days such as monday, tuesday, yesterday etc.\n",
    "    + Names of news entities such as Reuters and AP to prevent model from associating a news agency with a news type.\n",
    "4. HTML special characters are unescaped. For example, \n",
    "    - `&amp;` is converted to &,\n",
    "    - `&lt;` is converted to <, and\n",
    "    - `&gt;` is converted to >.\n",
    "5. Text is standardized so that the two tokens new and york are combined into one token newyork.\n",
    "6. Strings such as \"(AEOS.O: Quote, Profile, Research)\" are common is business texts in this dataset. These provide the stock ticker and links to stock quote, profile and research. These are cleaned from the data to prevent model from learning that quote, profile, research, and their bigrams are business specific terms."
   ]
  },
  {
   "cell_type": "code",
   "execution_count": 35,
   "id": "085178da",
   "metadata": {},
   "outputs": [],
   "source": [
    "data_updated = data_updated.map(\n",
    "    preprocess.tokenize_lemmatize_filter_ents,\n",
    "    batched=True,\n",
    "    batch_size=1000,\n",
    "    num_proc=6,\n",
    "    fn_kwargs={'stop_words': list(preprocess.CUSTOM_STOP_WORDS)}\n",
    "    )"
   ]
  },
  {
   "cell_type": "code",
   "execution_count": 36,
   "id": "87dc849e",
   "metadata": {},
   "outputs": [],
   "source": [
    "train = data_updated['train']\n",
    "valid = data_updated['valid']\n",
    "test = data_updated['test']"
   ]
  },
  {
   "cell_type": "markdown",
   "id": "6c69a772",
   "metadata": {},
   "source": [
    "## Generating Features"
   ]
  },
  {
   "cell_type": "markdown",
   "id": "27979b90",
   "metadata": {},
   "source": [
    "I create four arrays towards the four kinds of models I will build and compare. The description is as follows:\n",
    "1. Counts of unigrams\n",
    "2. Counts of unigramns and bigrams\n",
    "3. TF-IDF on unigrams\n",
    "4. TF-IDF on unigrams and bigrams\n",
    "\n",
    "The arrays and models will have the numbering above to maintain consistency in notation."
   ]
  },
  {
   "cell_type": "code",
   "execution_count": 37,
   "id": "acbb91cb",
   "metadata": {},
   "outputs": [],
   "source": [
    "MAX_FEATURES = 10_000\n",
    "vectorizers = {}\n",
    "# Create vectorizers for different n-gram ranges and methods\n",
    "vectorizers[1] = CountVectorizer(\n",
    "    max_features=MAX_FEATURES,\n",
    "    ngram_range=(1,1),\n",
    ")\n",
    "vectorizers[2] = CountVectorizer(\n",
    "    max_features=MAX_FEATURES,\n",
    "    ngram_range=(1,2),\n",
    ")\n",
    "vectorizers[3] = TfidfVectorizer(\n",
    "    max_features=MAX_FEATURES,\n",
    "    ngram_range=(1,1),\n",
    ")\n",
    "vectorizers[4] = TfidfVectorizer(\n",
    "    max_features=MAX_FEATURES,\n",
    "    ngram_range=(1,2),\n",
    ")"
   ]
  },
  {
   "cell_type": "markdown",
   "id": "36124e59",
   "metadata": {},
   "source": [
    "The following creates features for train and validation sets for each of the models."
   ]
  },
  {
   "cell_type": "code",
   "execution_count": 38,
   "id": "518c87eb",
   "metadata": {},
   "outputs": [],
   "source": [
    "feats = {}\n",
    "for i in range(1, 5):\n",
    "    feats[f\"{i}_train\"] = vectorizers[i].fit_transform(\n",
    "        [' '.join(tokens) for tokens in train['cleaned_tokens']]\n",
    "    )\n",
    "    feats[f\"{i}_valid\"] = vectorizers[i].transform(\n",
    "        [' '.join(tokens) for tokens in valid['cleaned_tokens']]\n",
    "    )"
   ]
  },
  {
   "cell_type": "markdown",
   "id": "0cba6151",
   "metadata": {},
   "source": [
    "## Training XGBoost Models and Comparing on Validation Set"
   ]
  },
  {
   "cell_type": "markdown",
   "id": "191a0e52",
   "metadata": {},
   "source": [
    "Hyperparameters used for training all the models. These are baseline hyperparameters and no tuning is done to compare the models. Once I select the best model, I will tune the hyperparameters for the same before evaluating on the test set."
   ]
  },
  {
   "cell_type": "code",
   "execution_count": 39,
   "id": "20df5dc7",
   "metadata": {},
   "outputs": [],
   "source": [
    "default_params = {\n",
    "    'objective': 'multi:softmax',\n",
    "    'num_class': 4,\n",
    "    'eval_metric': 'mlogloss',\n",
    "    'early_stopping_rounds': 10, \n",
    "    'n_estimators': 1000, \n",
    "}"
   ]
  },
  {
   "cell_type": "markdown",
   "id": "8a2aa186",
   "metadata": {},
   "source": [
    "Creating dataframe to store evaluation metrics"
   ]
  },
  {
   "cell_type": "code",
   "execution_count": 40,
   "id": "45f9f3f6",
   "metadata": {},
   "outputs": [],
   "source": [
    "eval_metrics = pd.DataFrame(\n",
    "    columns=['method', \n",
    "             'accuracy', \n",
    "             'macro_f1', \n",
    "             'macro_precision',\n",
    "             'macro_recall',],\n",
    "    index=range(1, 5)\n",
    ")\n",
    "eval_metrics['method'] = [\n",
    "    'Count 1-gram', \n",
    "    'Count 1-2-gram', \n",
    "    'TF-IDF 1-gram', \n",
    "    'TF-IDF 1-2-gram'\n",
    "]"
   ]
  },
  {
   "cell_type": "markdown",
   "id": "b88d1f58",
   "metadata": {},
   "source": [
    "Training and evaluation models"
   ]
  },
  {
   "cell_type": "code",
   "execution_count": 41,
   "id": "6cbb6511",
   "metadata": {},
   "outputs": [],
   "source": [
    "models = {}\n",
    "for i in range(1, 5):\n",
    "    X_train = feats[f\"{i}_train\"]\n",
    "    X_valid = feats[f\"{i}_valid\"]\n",
    "    \n",
    "    xgb_model = xgb.XGBClassifier(**default_params)\n",
    "    xgb_model.fit(\n",
    "        X_train, \n",
    "        train['label'],\n",
    "        eval_set=[\n",
    "            (X_valid, valid['label'])\n",
    "            ],\n",
    "        verbose=0,\n",
    "    )\n",
    "    models[i] = xgb_model\n",
    "    # Compute evaluation metrics\n",
    "    y_pred = xgb_model.predict(X_valid)\n",
    "    accuracy = accuracy_score(valid['label'], y_pred)\n",
    "    macro_f1, macro_precision, macro_recall, _ = precision_recall_fscore_support(\n",
    "        valid['label'], \n",
    "        y_pred, \n",
    "        average='macro'\n",
    "    )\n",
    "    eval_metrics.loc[i, 'accuracy'] = accuracy\n",
    "    eval_metrics.loc[i, 'macro_f1'] = macro_f1\n",
    "    eval_metrics.loc[i, 'macro_precision'] = macro_precision\n",
    "    eval_metrics.loc[i, 'macro_recall'] = macro_recall"
   ]
  },
  {
   "cell_type": "code",
   "execution_count": 42,
   "id": "d1611dd2",
   "metadata": {},
   "outputs": [
    {
     "data": {
      "text/html": [
       "<div>\n",
       "<style scoped>\n",
       "    .dataframe tbody tr th:only-of-type {\n",
       "        vertical-align: middle;\n",
       "    }\n",
       "\n",
       "    .dataframe tbody tr th {\n",
       "        vertical-align: top;\n",
       "    }\n",
       "\n",
       "    .dataframe thead th {\n",
       "        text-align: right;\n",
       "    }\n",
       "</style>\n",
       "<table border=\"1\" class=\"dataframe\">\n",
       "  <thead>\n",
       "    <tr style=\"text-align: right;\">\n",
       "      <th></th>\n",
       "      <th>method</th>\n",
       "      <th>accuracy</th>\n",
       "      <th>macro_f1</th>\n",
       "      <th>macro_precision</th>\n",
       "      <th>macro_recall</th>\n",
       "    </tr>\n",
       "  </thead>\n",
       "  <tbody>\n",
       "    <tr>\n",
       "      <th>1</th>\n",
       "      <td>Count 1-gram</td>\n",
       "      <td>0.903158</td>\n",
       "      <td>0.902648</td>\n",
       "      <td>0.902904</td>\n",
       "      <td>0.902544</td>\n",
       "    </tr>\n",
       "    <tr>\n",
       "      <th>2</th>\n",
       "      <td>Count 1-2-gram</td>\n",
       "      <td>0.903158</td>\n",
       "      <td>0.90256</td>\n",
       "      <td>0.902886</td>\n",
       "      <td>0.902525</td>\n",
       "    </tr>\n",
       "    <tr>\n",
       "      <th>3</th>\n",
       "      <td>TF-IDF 1-gram</td>\n",
       "      <td>0.898158</td>\n",
       "      <td>0.897684</td>\n",
       "      <td>0.89793</td>\n",
       "      <td>0.897575</td>\n",
       "    </tr>\n",
       "    <tr>\n",
       "      <th>4</th>\n",
       "      <td>TF-IDF 1-2-gram</td>\n",
       "      <td>0.899605</td>\n",
       "      <td>0.899158</td>\n",
       "      <td>0.89944</td>\n",
       "      <td>0.899063</td>\n",
       "    </tr>\n",
       "  </tbody>\n",
       "</table>\n",
       "</div>"
      ],
      "text/plain": [
       "            method  accuracy  macro_f1 macro_precision macro_recall\n",
       "1     Count 1-gram  0.903158  0.902648        0.902904     0.902544\n",
       "2   Count 1-2-gram  0.903158   0.90256        0.902886     0.902525\n",
       "3    TF-IDF 1-gram  0.898158  0.897684         0.89793     0.897575\n",
       "4  TF-IDF 1-2-gram  0.899605  0.899158         0.89944     0.899063"
      ]
     },
     "execution_count": 42,
     "metadata": {},
     "output_type": "execute_result"
    }
   ],
   "source": [
    "eval_metrics"
   ]
  },
  {
   "cell_type": "markdown",
   "id": "39481cb1",
   "metadata": {},
   "source": [
    "## SHAP Importance for Best Model"
   ]
  },
  {
   "cell_type": "markdown",
   "id": "86575bc4",
   "metadata": {},
   "source": [
    "As we saw above, the counts of unigrams performs the best and is also the simplest of the four models. I now compute the following the top positive features (unigrams) for each of the classes. These are unigrams are most important identifiers of each of the classes."
   ]
  },
  {
   "cell_type": "code",
   "execution_count": 43,
   "id": "b0dee677",
   "metadata": {},
   "outputs": [],
   "source": [
    "explainer_1 = shap.TreeExplainer(models[1])\n",
    "shap_vals_1 = explainer_1.shap_values(feats['1_valid'])"
   ]
  },
  {
   "cell_type": "code",
   "execution_count": 44,
   "id": "ca280915",
   "metadata": {},
   "outputs": [],
   "source": [
    "pos_pred_1 = pd.DataFrame({\n",
    "    'feat_name': vectorizers[1].get_feature_names_out(),\n",
    "})\n",
    "for i in range(4):\n",
    "    mask = (np.array(valid['label']) == i)\n",
    "    pos_pred_1['label_' + str(i)] = \\\n",
    "        np.mean(shap_vals_1[mask,:,i], axis=0) * 100"
   ]
  },
  {
   "cell_type": "code",
   "execution_count": 45,
   "id": "2dd6023b",
   "metadata": {},
   "outputs": [
    {
     "data": {
      "image/png": "[encoded data removed]",
      "text/plain": [
       "<Figure size 800x2000 with 4 Axes>"
      ]
     },
     "metadata": {},
     "output_type": "display_data"
    }
   ],
   "source": [
    "class_labels = train.features['label'].names\n",
    "fig, ax = plt.subplots(\n",
    "    4, 1, \n",
    "    figsize=(8, 20),\n",
    "    sharex=True,\n",
    ")\n",
    "for i in range(4): \n",
    "    ax[i].barh(\n",
    "        pos_pred_1.sort_values(\n",
    "            by='label_' + str(i), \n",
    "            key=abs,\n",
    "            ascending=False)['feat_name'].iloc[0:10],\n",
    "        pos_pred_1.sort_values(\n",
    "            by='label_' + str(i), \n",
    "            key=abs,\n",
    "            ascending=False)['label_' + str(i)].iloc[0:10],\n",
    "    )\n",
    "    ax[i].invert_yaxis()\n",
    "    ax[i].set_title(f'Top 10 features for {class_labels[i]}')\n",
    "    ax[i].set_xlabel('SHAP value')\n",
    "    ax[i].set_ylabel('Feature')"
   ]
  },
  {
   "cell_type": "markdown",
   "id": "03954954",
   "metadata": {},
   "source": [
    "## Bayesian Hyperparameter Optimization and Evaluating Best Model on Test Set"
   ]
  },
  {
   "cell_type": "markdown",
   "id": "de2c86b5",
   "metadata": {},
   "source": [
    "I first **tune hyperparameters using Bayesian methods** to select the best model using train set (and valid set for evaluating choices of hyperparam and early stopping) only."
   ]
  },
  {
   "cell_type": "code",
   "execution_count": 51,
   "id": "abed8756",
   "metadata": {},
   "outputs": [
    {
     "name": "stdout",
     "output_type": "stream",
     "text": [
      "Best parameters: {'learning_rate': 0.3048555732450578, 'max_depth': np.int64(12), 'min_child_weight': 1.0, 'gamma': 0.0, 'reg_alpha': 0.5629452942690799, 'reg_lambda': 0.24451880642256957}\n"
     ]
    }
   ],
   "source": [
    "best_model, best_params, best_logloss_score = \\\n",
    "    skopt_hyperparam_tune.tune_xgb(\n",
    "        X_train=feats['1_train'],\n",
    "        y_train=train['label'],\n",
    "        X_valid=feats['1_valid'],\n",
    "        y_valid=valid['label'],\n",
    "        num_classes=4,\n",
    "        n_calls=50,\n",
    "    )"
   ]
  },
  {
   "cell_type": "markdown",
   "id": "a4973900",
   "metadata": {},
   "source": [
    "With the best model selected, I compute its **performance on the test set**."
   ]
  },
  {
   "cell_type": "code",
   "execution_count": 52,
   "id": "7dbbb386",
   "metadata": {},
   "outputs": [
    {
     "name": "stdout",
     "output_type": "stream",
     "text": [
      "Test Accuracy: 0.9072\n",
      "Test Macro F1: 0.9072\n",
      "Test Macro Precision: 0.9072\n",
      "Test Macro Recall: 0.9070\n",
      "Classification Report:\n",
      "              precision    recall  f1-score   support\n",
      "\n",
      "       World       0.93      0.89      0.91      1900\n",
      "      Sports       0.94      0.98      0.96      1900\n",
      "    Business       0.87      0.88      0.87      1900\n",
      "    Sci/Tech       0.89      0.88      0.89      1900\n",
      "\n",
      "    accuracy                           0.91      7600\n",
      "   macro avg       0.91      0.91      0.91      7600\n",
      "weighted avg       0.91      0.91      0.91      7600\n",
      "\n"
     ]
    }
   ],
   "source": [
    "feats['1_test'] = vectorizers[1].transform(\n",
    "    [' '.join(tokens) for tokens in test['cleaned_tokens']]\n",
    ")\n",
    "class_labels = train.features['label'].names\n",
    "y_test_pred = best_model.predict(feats['1_test'])\n",
    "test_accuracy = accuracy_score(test['label'], y_test_pred)\n",
    "test_macro_f1, test_macro_precision, test_macro_recall, _ = \\\n",
    "    precision_recall_fscore_support(\n",
    "        test['label'], \n",
    "        y_test_pred, \n",
    "        average='macro'\n",
    "    )\n",
    "print(f\"Test Accuracy: {test_accuracy:.4f}\")\n",
    "print(f\"Test Macro F1: {test_macro_f1:.4f}\")\n",
    "print(f\"Test Macro Precision: {test_macro_precision:.4f}\")\n",
    "print(f\"Test Macro Recall: {test_macro_recall:.4f}\")\n",
    "# classification report\n",
    "print(\"Classification Report:\")\n",
    "print(classification_report(\n",
    "    test['label'], \n",
    "    y_test_pred, \n",
    "    target_names=class_labels\n",
    "    ))"
   ]
  },
  {
   "cell_type": "markdown",
   "id": "74ce864c",
   "metadata": {},
   "source": [
    "The model created using unigram counts has a macro F1 score of **0.91**."
   ]
  }
 ],
 "metadata": {
  "kernelspec": {
   "display_name": "Python 3 (ipykernel)",
   "language": "python",
   "name": "python3"
  },
  "language_info": {
   "codemirror_mode": {
    "name": "ipython",
    "version": 3
   },
   "file_extension": ".py",
   "mimetype": "text/x-python",
   "name": "python",
   "nbconvert_exporter": "python",
   "pygments_lexer": "ipython3",
   "version": "3.12.11"
  }
 },
 "nbformat": 4,
 "nbformat_minor": 5
}
